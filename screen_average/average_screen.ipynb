{
 "cells": [
  {
   "cell_type": "code",
   "execution_count": 81,
   "metadata": {},
   "outputs": [
    {
     "name": "stdout",
     "output_type": "stream",
     "text": [
      "250.89216635053356 250.7454289732771 250.86779506832346 255.0\n"
     ]
    }
   ],
   "source": [
    "\n",
    "# Import the necessary libraries\n",
    "from PIL import Image\n",
    "import numpy as np\n",
    "from numpy import asarray\n",
    " \n",
    " \n",
    "# load the image and convert into\n",
    "# numpy array\n",
    "img = np.array(Image.open(r'C:\\Users\\lukea\\OneDrive\\Pictures\\Sample4.png'))\n",
    "numpydata = asarray(img)\n",
    "# print(numpydata) \n",
    "\n",
    "\n",
    "average_r = 0\n",
    "average_g = 0\n",
    "average_b = 0\n",
    "average_a = 0\n",
    "i = 0\n",
    "# Create loops to average r, g, b, and a\n",
    "# single_el_array = numpydata[:,:,3]\n",
    "for x in numpydata:\n",
    "    for y in x[:]:\n",
    "        for z in y:\n",
    "            r = y[0]\n",
    "            g = y[1]\n",
    "            b = y[2]\n",
    "            a = y[3]\n",
    "            average_r = average_r + r\n",
    "            average_g = average_g + g\n",
    "            average_b = average_b + b\n",
    "            average_a = average_a + a\n",
    "            i += 1\n",
    "average_r = average_r/(len(x)*len(y)*len(numpydata))\n",
    "average_g = average_g/(len(x)*len(y)*len(numpydata))\n",
    "average_b = average_b/(len(x)*len(y)*len(numpydata))\n",
    "average_a = average_a/(len(x)*len(y)*len(numpydata))\n",
    "print(average_r, average_g, average_b, average_a)\n",
    "\n",
    "# Below is the way of creating Pillow\n",
    "# image from our numpyarray\n",
    "pilImage = Image.new('RGB', (200,200), (int(average_r), int(average_g), int(average_b)))\n",
    " \n",
    "# Let us check  image details\n",
    "pilImage.show()\n"
   ]
  }
 ],
 "metadata": {
  "kernelspec": {
   "display_name": "Python 3",
   "language": "python",
   "name": "python3"
  },
  "language_info": {
   "codemirror_mode": {
    "name": "ipython",
    "version": 3
   },
   "file_extension": ".py",
   "mimetype": "text/x-python",
   "name": "python",
   "nbconvert_exporter": "python",
   "pygments_lexer": "ipython3",
   "version": "3.10.10"
  },
  "orig_nbformat": 4,
  "vscode": {
   "interpreter": {
    "hash": "7458c2a0e01a862a0a5a5c24ffc79af2b2ce6fa9c1d018401149eedfe53c812e"
   }
  }
 },
 "nbformat": 4,
 "nbformat_minor": 2
}
