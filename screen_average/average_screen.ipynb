{
 "cells": [
  {
   "cell_type": "code",
<<<<<<< HEAD
   "execution_count": 40,
=======
   "execution_count": null,
>>>>>>> ecf736d89fc224e41d04745f10423f7f3a6b5a6e
   "metadata": {},
   "outputs": [
    {
     "name": "stdout",
     "output_type": "stream",
     "text": [
      "0.8277621269226074\n"
     ]
    }
   ],
   "source": [
    "\n",
    "# Import the necessary libraries\n",
    "from PIL import Image\n",
    "import numpy as np\n",
    "from numpy import asarray\n",
    "import time\n",
    " \n",
    " \n",
    "# load the image and convert into\n",
    "# numpy array\n",
    "img = np.array(Image.open(r'C:\\Users\\lukea\\OneDrive\\Pictures\\Sample4.png'))\n",
    "numpydata = asarray(img)\n",
    "\n",
    "starttime = time.time()\n",
    "\n",
<<<<<<< HEAD
    "'''\n",
    "# Create loops to find average r, g, b, and a\n",
    "r_array = numpydata[:,:,0]\n",
    "g_array = numpydata[:,:,1]\n",
    "b_array = numpydata[:,:,2]\n",
    "x,y,z = numpydata.shape\n",
    "average_r = np.sum(r_array)/(x*y)\n",
    "average_g = np.sum(g_array)/(x*y)\n",
    "average_b = np.sum(b_array)/(x*y)\n",
    "'''\n",
    "\n",
    "'''\n",
=======
    "average_r = 0\n",
    "average_g = 0\n",
    "average_b = 0\n",
    "average_a = 0\n",
    "i = 0\n",
    "# Create loops to average r, g, b, and a\n",
    "# Things to improve optimization\n",
    "# single_el_array = numpydata[:,:,3]\n",
    "# np.sum()\n",
>>>>>>> ecf736d89fc224e41d04745f10423f7f3a6b5a6e
    "for x in numpydata:\n",
    "    for y in x[:]:\n",
    "        for z in y:\n",
    "            r = y[0]\n",
    "            g = y[1]\n",
    "            b = y[2]\n",
    "            a = y[3]\n",
    "            average_r = average_r + r\n",
    "            average_g = average_g + g\n",
    "            average_b = average_b + b\n",
    "            average_a = average_a + a\n",
    "            i += 1\n",
    "average_r = average_r/(len(x)*len(y)*len(numpydata))\n",
    "average_g = average_g/(len(x)*len(y)*len(numpydata))\n",
    "average_b = average_b/(len(x)*len(y)*len(numpydata))\n",
    "average_a = average_a/(len(x)*len(y)*len(numpydata))\n",
    "print(average_r, average_g, average_b, average_a)\n",
    "'''\n",
    "\n",
    "# Find the most common color\n",
    "r255 = [0] * 256\n",
    "g255 = [0] * 256\n",
    "b255 = [0] * 256\n",
    "# red\n",
    "for i in range(0, len(r_array)):\n",
    "    for j in range(len(r_array[:])):\n",
    "        r255[r_array[i][j]] +=1\n",
    "# green\n",
    "for i in range(0, len(g_array)):\n",
    "    for j in range(len(g_array[:])):\n",
    "        g255[g_array[i][j]] +=1\n",
    "# blue\n",
    "for i in range(0, len(b_array)):\n",
    "    for j in range(len(b_array[:])):\n",
    "        b255[b_array[i][j]] +=1\n",
    "\n",
    "r_common = np.argmax(r255)\n",
    "g_common = np.argmax(g255)\n",
    "b_common = np.argmax(b255)\n",
    "\n",
    "endtime = time.time() - starttime\n",
    "print(endtime)\n",
    "\n",
    "# Below is the way of creating Pillow\n",
    "# image from our numpyarray\n",
    "# First image is the average color\n",
    "# pilImage = Image.new('RGB', (200,200), (int(average_r), int(average_g), int(average_b)))\n",
    "# Second image is the color that appears the most\n",
    "pilImage2 = Image.new('RGB', (200,200), (r_common, g_common, b_common))\n",
    " \n",
    "# Let us check  image details\n",
    "# pilImage2.show()\n"
   ]
  },
  {
   "cell_type": "code",
   "execution_count": 2,
   "metadata": {},
   "outputs": [
    {
     "ename": "NameError",
     "evalue": "name 'Image' is not defined",
     "output_type": "error",
     "traceback": [
      "\u001b[1;31m---------------------------------------------------------------------------\u001b[0m",
      "\u001b[1;31mNameError\u001b[0m                                 Traceback (most recent call last)",
      "Cell \u001b[1;32mIn[2], line 1\u001b[0m\n\u001b[1;32m----> 1\u001b[0m pilImage \u001b[38;5;241m=\u001b[39m \u001b[43mImage\u001b[49m\u001b[38;5;241m.\u001b[39mnew(\u001b[38;5;124m'\u001b[39m\u001b[38;5;124mRGB\u001b[39m\u001b[38;5;124m'\u001b[39m, (\u001b[38;5;241m200\u001b[39m,\u001b[38;5;241m200\u001b[39m), (\u001b[38;5;28mint\u001b[39m(\u001b[38;5;241m116.81117249846531\u001b[39m), \u001b[38;5;28mint\u001b[39m(\u001b[38;5;241m119.18488336402702\u001b[39m), \u001b[38;5;28mint\u001b[39m(\u001b[38;5;241m127.86721915285452\u001b[39m)))\n\u001b[0;32m      3\u001b[0m \u001b[38;5;66;03m# Let us check  image details\u001b[39;00m\n\u001b[0;32m      4\u001b[0m pilImage\u001b[38;5;241m.\u001b[39mshow()\n",
      "\u001b[1;31mNameError\u001b[0m: name 'Image' is not defined"
     ]
    }
   ],
   "source": [
    "pilImage = Image.new('RGB', (200,200), (int(116.81117249846531), int(119.18488336402702), int(127.86721915285452)))\n",
    " \n",
    "# Let us check  image details\n",
    "pilImage.show()"
   ]
  }
 ],
 "metadata": {
  "kernelspec": {
   "display_name": "Python 3.10.6 64-bit",
   "language": "python",
   "name": "python3"
  },
  "language_info": {
   "codemirror_mode": {
    "name": "ipython",
    "version": 3
   },
   "file_extension": ".py",
   "mimetype": "text/x-python",
   "name": "python",
   "nbconvert_exporter": "python",
   "pygments_lexer": "ipython3",
   "version": "3.10.6"
  },
  "orig_nbformat": 4,
  "vscode": {
   "interpreter": {
    "hash": "26de051ba29f2982a8de78e945f0abaf191376122a1563185a90213a26c5da77"
   }
  }
 },
 "nbformat": 4,
 "nbformat_minor": 2
}
